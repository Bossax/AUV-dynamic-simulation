{
 "cells": [
  {
   "cell_type": "markdown",
   "metadata": {},
   "source": [
    "***Second-order system***"
   ]
  },
  {
   "cell_type": "markdown",
   "metadata": {},
   "source": [
    "demonstrate some standard MATLAB commands"
   ]
  },
  {
   "cell_type": "code",
   "execution_count": 1,
   "metadata": {},
   "outputs": [
    {
     "name": "stdout",
     "output_type": "stream",
     "text": [
      "Using matplotlib backend: Qt5Agg\n"
     ]
    }
   ],
   "source": [
    "%matplotlib \n",
    "import os\n",
    "import matplotlib.pyplot as plt   # MATLAB plotting functions\n",
    "import numpy as np\n",
    "from control.matlab import *  # MATLAB-like functions"
   ]
  },
  {
   "cell_type": "markdown",
   "metadata": {},
   "source": [
    "*State-space model*"
   ]
  },
  {
   "cell_type": "code",
   "execution_count": 2,
   "metadata": {},
   "outputs": [],
   "source": [
    "# Parameters defining the system\n",
    "m = 25.0           # system mass\n",
    "k = 40.0            # spring constant\n",
    "b = 6.0            # damping constant\n",
    "\n",
    "# System matrices\n",
    "A = [[0, 1.], [-k/m, -b/m]]\n",
    "B = [[0], [1/m]]\n",
    "C = [[1., 0]]\n",
    "sys = ss(A, B, C, 0)\n",
    "time_vector = np.linspace(1,40,100)"
   ]
  },
  {
   "cell_type": "code",
   "execution_count": 3,
   "metadata": {},
   "outputs": [],
   "source": [
    "# Step response for the system\n",
    "plt.figure(1)\n",
    "yout, T = step(sys, T = time_vector)\n",
    "plt.plot(T.T, yout.T)\n",
    "plt.grid()\n",
    "plt.xlim((0,40))\n",
    "plt.ylim((0,.05))\n",
    "plt.title('Step response of mass-spring system')\n",
    "plt.xlabel('Time (s)')\n",
    "plt.ylabel('Amplitude (m)')\n",
    "plt.show(block=False)\n",
    "\n",
    "# Bode plot for the system\n",
    "plt.figure(2 )\n",
    "mag, phase, om = bode(sys, logspace(-2, 2), plot=True)\n",
    "plt.show(block=False)\n",
    "\n",
    "# Nyquist plot for the system\n",
    "plt.figure(3)\n",
    "nyquist(sys, logspace(-2, 2))\n",
    "plt.show(block=False)\n",
    "\n",
    "plt.show()"
   ]
  },
  {
   "cell_type": "code",
   "execution_count": 4,
   "metadata": {},
   "outputs": [
    {
     "name": "stdout",
     "output_type": "stream",
     "text": [
      "Clicked at  -1.96e+14+4.655e+14j gain  4.456e+30 damp     0.3881\n",
      "Clicked at  -1.61e+13+1.271e+14j gain  3.977e+29 damp     0.1257\n",
      "Clicked at -4.786e+13-1.833e+14j gain  7.828e+29 damp     0.2526\n",
      "Clicked at -1.431e+14-3.783e+14j gain  3.067e+30 damp     0.3538\n",
      "Clicked at -2.701e+14-5.455e+14j gain  5.616e+30 damp     0.4437\n",
      "Clicked at -1.325e+14-2.788e+14j gain  1.505e+30 damp     0.4293\n",
      "Clicked at  6.857e+13-9.575e+13j gain  1.116e+29 damp    -0.5822\n",
      "Clicked at -3.727e+13-8.778e+13j gain  1.579e+29 damp     0.3908\n",
      "Clicked at -5.521e+12+2.366e+13j gain  1.324e+28 damp     0.2272\n",
      "Clicked at -2.384e+14+5.411e+14j gain  5.899e+30 damp     0.4031\n",
      "Clicked at -4.289e+14+6.565e+14j gain  6.177e+30 damp     0.5469\n",
      "Clicked at -7.146e+14+7.361e+14j gain  7.797e+29 damp     0.6966\n"
     ]
    }
   ],
   "source": [
    "# Root lcous plot for the system\n",
    "plt.figure(4)\n",
    "rlist, klist = rlocus(sys)\n"
   ]
  },
  {
   "cell_type": "markdown",
   "metadata": {},
   "source": [
    "*Block Diagram*"
   ]
  },
  {
   "cell_type": "code",
   "execution_count": 6,
   "metadata": {},
   "outputs": [
    {
     "data": {
      "text/latex": [
       "$$\\frac{1}{25 s^2 + 6 s + 40}$$"
      ],
      "text/plain": [
       "TransferFunction(array([1]), array([25.,  6., 40.]))"
      ]
     },
     "metadata": {},
     "output_type": "display_data"
    }
   ],
   "source": [
    "plant = tf(1,[m,b, k])\n",
    "display(plant)"
   ]
  },
  {
   "cell_type": "code",
   "execution_count": 7,
   "metadata": {},
   "outputs": [],
   "source": [
    "#step response\n",
    "yout1, T1 = step(plant, T = time_vector)\n",
    "#impulse response\n",
    "yout2, T2 = impulse(plant, T = time_vector)\n"
   ]
  },
  {
   "cell_type": "code",
   "execution_count": 8,
   "metadata": {},
   "outputs": [
    {
     "data": {
      "image/png": "[encoded data removed]",
      "text/plain": [
       "<Figure size 432x288 with 1 Axes>"
      ]
     },
     "metadata": {
      "needs_background": "light"
     },
     "output_type": "display_data"
    }
   ],
   "source": [
    "\n",
    "plt.figure(1)\n",
    "plt.plot(T1, yout1)\n",
    "plt.plot(T2,yout2, color = 'red', linestyle = '--')\n",
    "plt.grid()\n",
    "plt.xlim((0,40))\n",
    "plt.ylim((-0.05,.05))\n",
    "plt.legend(('Step Response','Impulse Response'), loc = 'lower right')\n",
    "plt.title('Reponses of mass-spring system')\n",
    "plt.xlabel('Time (s)')\n",
    "plt.ylabel('Amplitude (m)')\n",
    "plt.show(block = False)"
   ]
  },
  {
   "cell_type": "code",
   "execution_count": null,
   "metadata": {},
   "outputs": [],
   "source": []
  }
 ],
 "metadata": {
  "kernelspec": {
   "display_name": "Python 3",
   "language": "python",
   "name": "python3"
  },
  "language_info": {
   "codemirror_mode": {
    "name": "ipython",
    "version": 3
   },
   "file_extension": ".py",
   "mimetype": "text/x-python",
   "name": "python",
   "nbconvert_exporter": "python",
   "pygments_lexer": "ipython3",
   "version": "3.8.3"
  }
 },
 "nbformat": 4,
 "nbformat_minor": 4
}
