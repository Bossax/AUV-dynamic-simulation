{
 "cells": [
  {
   "cell_type": "markdown",
   "metadata": {},
   "source": [
    "***Second-order system***\n",
    "\n",
    "**Mass-damper-spring system**\n"
   ]
  },
  {
   "cell_type": "markdown",
   "metadata": {},
   "source": [
    "demonstrate some standard MATLAB commands"
   ]
  },
  {
   "cell_type": "code",
   "execution_count": 1,
   "metadata": {},
   "outputs": [
    {
     "name": "stdout",
     "output_type": "stream",
     "text": [
      "Using matplotlib backend: Qt5Agg\n"
     ]
    }
   ],
   "source": [
    "%matplotlib \n",
    "import os\n",
    "import matplotlib.pyplot as plt   # MATLAB plotting functions\n",
    "import numpy as np\n",
    "from control.matlab import *  # MATLAB-like functions"
   ]
  },
  {
   "cell_type": "markdown",
   "metadata": {},
   "source": [
    "*State-space model*"
   ]
  },
  {
   "cell_type": "code",
   "execution_count": 69,
   "metadata": {},
   "outputs": [],
   "source": [
    "# Parameters defining the system\n",
    "m = 25.0           # system mass\n",
    "k = 40.0            # spring constant\n",
    "b = 6.0            # damping constant\n",
    "\n",
    "# System matrices\n",
    "A = [[0, 1.], [-k/m, -b/m]]\n",
    "B = [[0], [1/m]]\n",
    "C = [[1., 0]]\n",
    "sys = ss(A, B, C, 0)\n",
    "time_vector = np.linspace(1,40,200)"
   ]
  },
  {
   "cell_type": "code",
   "execution_count": 72,
   "metadata": {},
   "outputs": [],
   "source": [
    "# Step response for the system\n",
    "plt.figure(1)\n",
    "yout, T = step(sys, T = time_vector)\n",
    "plt.plot(T.T, yout.T)\n",
    "plt.grid()\n",
    "plt.xlim((0,40))\n",
    "plt.ylim((0,.05))\n",
    "plt.title('Step response of mass-spring system')\n",
    "plt.xlabel('Time (s)')\n",
    "plt.ylabel('Amplitude (m)')\n",
    "plt.show(block=False)\n",
    "\n",
    "# Bode plot for the system\n",
    "plt.figure(2 )\n",
    "mag, phase, om = bode(sys, logspace(-2, 2), plot=True)\n",
    "plt.show(block=False)\n",
    "\n",
    "# Nyquist plot for the system\n",
    "plt.figure(3)\n",
    "nyquist(sys, logspace(-2, 2))\n",
    "plt.show(block=False)\n",
    "\n",
    "plt.show()"
   ]
  },
  {
   "cell_type": "code",
   "execution_count": 4,
   "metadata": {},
   "outputs": [
    {
     "name": "stdout",
     "output_type": "stream",
     "text": [
      "Poles = [-0.12+1.2592061j -0.12-1.2592061j], Zeros = []\n"
     ]
    }
   ],
   "source": [
    "# Root lcous plot for the system\n",
    "plt.figure(4)\n",
    "rlist, klist = rlocus(sys)\n",
    "plt.xlim((-3,0))\n",
    "plt.ylim((-3,3))\n",
    "print(\"Poles = %s, Zeros = %s\"% (pole(sys), zero(sys)))"
   ]
  },
  {
   "cell_type": "markdown",
   "metadata": {},
   "source": [
    "*Block Diagram*"
   ]
  },
  {
   "cell_type": "code",
   "execution_count": 73,
   "metadata": {},
   "outputs": [
    {
     "data": {
      "text/latex": [
       "$$\\frac{1}{25 s^2 + 6 s + 40}$$"
      ],
      "text/plain": [
       "TransferFunction(array([1]), array([25.,  6., 40.]))"
      ]
     },
     "metadata": {},
     "output_type": "display_data"
    }
   ],
   "source": [
    "sys_tf = tf(1,[m,b, k])\n",
    "display(sys_tf)"
   ]
  },
  {
   "cell_type": "code",
   "execution_count": 74,
   "metadata": {},
   "outputs": [],
   "source": [
    "#step response\n",
    "yout_op_step,T = step(sys_tf,T = time_vector)\n",
    "#step response\n",
    "yout_op_imp,T = impulse(sys_tf,T = time_vector)"
   ]
  },
  {
   "cell_type": "code",
   "execution_count": 75,
   "metadata": {},
   "outputs": [],
   "source": [
    "\n",
    "plt.figure(1)\n",
    "plt.plot(T, yout_op_step)\n",
    "plt.plot(T,yout_op_imp, color = 'red', linestyle = '--')\n",
    "plt.grid()\n",
    "plt.xlim((0,40))\n",
    "plt.ylim((-0.05,.05))\n",
    "plt.legend(('Step Response','Impulse Response'), loc = 'lower right')\n",
    "plt.title('Reponses of mass-spring system')\n",
    "plt.xlabel('Time (s)')\n",
    "plt.ylabel('Amplitude (m)')\n",
    "plt.show(block = False)"
   ]
  },
  {
   "cell_type": "markdown",
   "metadata": {},
   "source": [
    "Closed-loop transfer funtion with Kp"
   ]
  },
  {
   "cell_type": "code",
   "execution_count": 116,
   "metadata": {},
   "outputs": [
    {
     "data": {
      "text/latex": [
       "$$\\frac{100}{25 s^2 + 6 s + 140}$$"
      ],
      "text/plain": [
       "TransferFunction(array([100.]), array([ 25.,   6., 140.]))"
      ]
     },
     "metadata": {},
     "output_type": "display_data"
    }
   ],
   "source": [
    "Kp = 100\n",
    "Gc = Kp\n",
    "H = series(Gc,sys_tf)\n",
    "cl_tf = feedback(H,1)\n",
    "display(cl_tf)"
   ]
  },
  {
   "cell_type": "code",
   "execution_count": 99,
   "metadata": {},
   "outputs": [],
   "source": [
    "yout_cl_step_P, T = step(cl_tf, T = time_vector)\n",
    "plt.figure(4)\n",
    "plt.plot(T, yout_cl_step_P, color = 'green')\n",
    "plt.plot(T, yout_op_step)\n",
    "plt.grid()\n",
    "plt.xlim((0,40))\n",
    "plt.title('Step responses of mass-spring system')\n",
    "plt.xlabel('Time (s)')\n",
    "plt.ylabel('Amplitude (m)')\n",
    "plt.legend(('P controller','Open Loop'), loc = 'upper right')\n",
    "plt.show(block = False)"
   ]
  },
  {
   "cell_type": "markdown",
   "metadata": {},
   "source": [
    "Closed-loop PI controller"
   ]
  },
  {
   "cell_type": "code",
   "execution_count": 100,
   "metadata": {},
   "outputs": [
    {
     "data": {
      "text/latex": [
       "$$\\frac{300 s + 20}{s}$$"
      ],
      "text/plain": [
       "TransferFunction(array([300,  20]), array([1, 0]))"
      ]
     },
     "metadata": {},
     "output_type": "display_data"
    },
    {
     "data": {
      "text/latex": [
       "$$\\frac{300 s + 20}{25 s^3 + 6 s^2 + 340 s + 20}$$"
      ],
      "text/plain": [
       "TransferFunction(array([300.,  20.]), array([ 25.,   6., 340.,  20.]))"
      ]
     },
     "metadata": {},
     "output_type": "display_data"
    }
   ],
   "source": [
    "Ki = 30\n",
    "Gc = tf([Kp, KI],[1,0])\n",
    "H = series(Gc,sys_tf)\n",
    "cl_tf = feedback(H,1)\n",
    "display(Gc)\n",
    "display(cl_tf)"
   ]
  },
  {
   "cell_type": "code",
   "execution_count": 101,
   "metadata": {},
   "outputs": [],
   "source": [
    "yout_cl_step_PI, T = step(cl_tf, T = time_vector)\n",
    "plt.figure(5)\n",
    "plt.plot(T, yout_cl_step_PI, color = 'red')\n",
    "plt.plot(T, yout_cl_step_P)\n",
    "plt.grid()\n",
    "plt.xlim((0,40))\n",
    "plt.title('Step responses of mass-spring system')\n",
    "plt.xlabel('Time (s)')\n",
    "plt.ylabel('Amplitude (m)')\n",
    "plt.legend(('PI controller','P controller'), loc = 'upper right')\n",
    "plt.show(block = False)"
   ]
  },
  {
   "cell_type": "markdown",
   "metadata": {},
   "source": [
    "Closed-loop PID controller"
   ]
  },
  {
   "cell_type": "code",
   "execution_count": 122,
   "metadata": {},
   "outputs": [
    {
     "data": {
      "text/latex": [
       "$$\\frac{20 s^2 + 100 s + 30}{s}$$"
      ],
      "text/plain": [
       "TransferFunction(array([ 20, 100,  30]), array([1, 0]))"
      ]
     },
     "metadata": {},
     "output_type": "display_data"
    },
    {
     "data": {
      "text/latex": [
       "$$\\frac{20 s^2 + 100 s + 30}{25 s^3 + 26 s^2 + 140 s + 30}$$"
      ],
      "text/plain": [
       "TransferFunction(array([ 20., 100.,  30.]), array([ 25.,  26., 140.,  30.]))"
      ]
     },
     "metadata": {},
     "output_type": "display_data"
    }
   ],
   "source": [
    "Kd = 20\n",
    "Gc = tf([Kd,Kp, Ki],[1,0])\n",
    "H = series(Gc,sys_tf)\n",
    "cl_tf = feedback(H,1)\n",
    "display(Gc)\n",
    "display(cl_tf)"
   ]
  },
  {
   "cell_type": "code",
   "execution_count": 123,
   "metadata": {},
   "outputs": [],
   "source": [
    "yout_cl_step_PID, T = step(cl_tf, T = time_vector)\n",
    "plt.figure(5)\n",
    "plt.plot(T, yout_cl_step_PID, color = 'red')\n",
    "plt.plot(T, yout_cl_step_PI, color = 'orange', linestyle = '--')\n",
    "plt.plot(T, yout_cl_step_P, linestyle = '--')\n",
    "plt.grid()\n",
    "plt.xlim((0,40))\n",
    "plt.title('Step responses of mass-spring system')\n",
    "plt.xlabel('Time (s)')\n",
    "plt.ylabel('Amplitude (m)')\n",
    "plt.legend(('PID controller','PI controller','P controller'), loc = 'upper right')\n",
    "plt.show(block = False)"
   ]
  },
  {
   "cell_type": "code",
   "execution_count": 124,
   "metadata": {},
   "outputs": [],
   "source": [
    "#Bode plot of the controller\n",
    "plt.figure(6)\n",
    "mag, phase, om = bode(Gc, logspace(-2, 3), plot=True)\n",
    "plt.show(block=False)"
   ]
  }
 ],
 "metadata": {
  "kernelspec": {
   "display_name": "Python 3",
   "language": "python",
   "name": "python3"
  },
  "language_info": {
   "codemirror_mode": {
    "name": "ipython",
    "version": 3
   },
   "file_extension": ".py",
   "mimetype": "text/x-python",
   "name": "python",
   "nbconvert_exporter": "python",
   "pygments_lexer": "ipython3",
   "version": "3.8.3"
  }
 },
 "nbformat": 4,
 "nbformat_minor": 4
}
